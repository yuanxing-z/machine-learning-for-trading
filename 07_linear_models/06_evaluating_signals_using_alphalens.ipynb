{
 "cells": [
  {
   "cell_type": "markdown",
   "metadata": {},
   "source": [
    "# Alphalens Analysis"
   ]
  },
  {
   "cell_type": "code",
   "execution_count": 1,
   "metadata": {
    "ExecuteTime": {
     "end_time": "2021-04-15T20:14:34.737829Z",
     "start_time": "2021-04-15T20:14:34.735088Z"
    }
   },
   "outputs": [],
   "source": [
    "import warnings\n",
    "warnings.filterwarnings('ignore')"
   ]
  },
  {
   "cell_type": "code",
   "execution_count": 2,
   "metadata": {
    "ExecuteTime": {
     "end_time": "2021-04-15T20:14:35.351188Z",
     "start_time": "2021-04-15T20:14:34.744658Z"
    }
   },
   "outputs": [],
   "source": [
    "from pathlib import Path\n",
    "import pandas as pd\n",
    "from alphalens.tears import create_summary_tear_sheet\n",
    "from alphalens.utils import get_clean_factor_and_forward_returns"
   ]
  },
  {
   "cell_type": "code",
   "execution_count": 3,
   "metadata": {
    "ExecuteTime": {
     "end_time": "2021-04-15T20:14:35.354076Z",
     "start_time": "2021-04-15T20:14:35.352214Z"
    }
   },
   "outputs": [],
   "source": [
    "idx = pd.IndexSlice"
   ]
  },
  {
   "cell_type": "markdown",
   "metadata": {},
   "source": [
    "## Load Data"
   ]
  },
  {
   "cell_type": "code",
   "execution_count": 4,
   "metadata": {
    "ExecuteTime": {
     "end_time": "2021-04-15T20:14:35.680803Z",
     "start_time": "2021-04-15T20:14:35.355387Z"
    }
   },
   "outputs": [],
   "source": [
    "with pd.HDFStore('data.h5') as store:\n",
    "    lr_predictions = store['lr/predictions']\n",
    "    lasso_predictions = store['lasso/predictions']\n",
    "    lasso_scores = store['lasso/scores']\n",
    "    ridge_predictions = store['ridge/predictions']\n",
    "    ridge_scores = store['ridge/scores']"
   ]
  },
  {
   "cell_type": "code",
   "execution_count": 5,
   "metadata": {
    "ExecuteTime": {
     "end_time": "2021-04-15T20:14:35.683992Z",
     "start_time": "2021-04-15T20:14:35.681990Z"
    }
   },
   "outputs": [],
   "source": [
    "DATA_STORE = Path('..', 'data', 'assets.h5')"
   ]
  },
  {
   "cell_type": "code",
   "execution_count": 6,
   "metadata": {
    "ExecuteTime": {
     "end_time": "2021-04-15T20:14:35.694127Z",
     "start_time": "2021-04-15T20:14:35.684902Z"
    }
   },
   "outputs": [],
   "source": [
    "def get_trade_prices(tickers, start, stop):\n",
    "    prices = (pd.read_hdf(DATA_STORE, 'quandl/wiki/prices').swaplevel().sort_index())\n",
    "    prices.index.names = ['symbol', 'date']\n",
    "    prices = prices.loc[idx[tickers, str(start):str(stop)], 'adj_open']\n",
    "    return (prices\n",
    "            .unstack('symbol')\n",
    "            .sort_index()\n",
    "            .shift(-1)\n",
    "            .tz_localize('UTC'))"
   ]
  },
  {
   "cell_type": "code",
   "execution_count": 7,
   "metadata": {
    "ExecuteTime": {
     "end_time": "2021-04-15T20:14:35.702148Z",
     "start_time": "2021-04-15T20:14:35.695116Z"
    }
   },
   "outputs": [],
   "source": [
    "def get_best_alpha(scores):\n",
    "    return scores.groupby('alpha').ic.mean().idxmax()"
   ]
  },
  {
   "cell_type": "code",
   "execution_count": 8,
   "metadata": {
    "ExecuteTime": {
     "end_time": "2021-04-15T20:14:35.710457Z",
     "start_time": "2021-04-15T20:14:35.703034Z"
    }
   },
   "outputs": [],
   "source": [
    "def get_factor(predictions):\n",
    "    return (predictions.unstack('symbol')\n",
    "            .dropna(how='all')\n",
    "            .stack()\n",
    "            .tz_localize('UTC', level='date')\n",
    "            .sort_index())    "
   ]
  },
  {
   "cell_type": "markdown",
   "metadata": {},
   "source": [
    "## Linear Regression"
   ]
  },
  {
   "cell_type": "code",
   "execution_count": 9,
   "metadata": {
    "ExecuteTime": {
     "end_time": "2021-04-15T20:14:35.752043Z",
     "start_time": "2021-04-15T20:14:35.712768Z"
    }
   },
   "outputs": [
    {
     "data": {
      "text/plain": [
       "date                       symbol\n",
       "2014-12-09 00:00:00+00:00  AAL       0.001836\n",
       "                           AAPL     -0.001626\n",
       "                           ABBV      0.001321\n",
       "                           AGN       0.002162\n",
       "                           AIG      -0.000331\n",
       "dtype: float64"
      ]
     },
     "execution_count": 9,
     "metadata": {},
     "output_type": "execute_result"
    }
   ],
   "source": [
    "lr_factor = get_factor(lr_predictions.predicted.swaplevel())\n",
    "lr_factor.head()"
   ]
  },
  {
   "cell_type": "code",
   "execution_count": 10,
   "metadata": {
    "ExecuteTime": {
     "end_time": "2021-04-15T20:14:35.757851Z",
     "start_time": "2021-04-15T20:14:35.752977Z"
    }
   },
   "outputs": [],
   "source": [
    "tickers = lr_factor.index.get_level_values('symbol').unique()"
   ]
  },
  {
   "cell_type": "code",
   "execution_count": 11,
   "metadata": {
    "ExecuteTime": {
     "end_time": "2021-04-15T20:14:58.118829Z",
     "start_time": "2021-04-15T20:14:35.758731Z"
    }
   },
   "outputs": [
    {
     "name": "stdout",
     "output_type": "stream",
     "text": [
      "<class 'pandas.core.frame.DataFrame'>\n",
      "DatetimeIndex: 1007 entries, 2014-01-02 00:00:00+00:00 to 2017-12-29 00:00:00+00:00\n",
      "Columns: 257 entries, AAL to GWW\n",
      "dtypes: float64(257)\n",
      "memory usage: 2.0 MB\n"
     ]
    }
   ],
   "source": [
    "trade_prices = get_trade_prices(tickers, 2014, 2017)\n",
    "trade_prices.info()"
   ]
  },
  {
   "cell_type": "code",
   "execution_count": 12,
   "metadata": {
    "ExecuteTime": {
     "end_time": "2021-04-15T20:14:59.198679Z",
     "start_time": "2021-04-15T20:14:58.119863Z"
    },
    "scrolled": false
   },
   "outputs": [
    {
     "name": "stdout",
     "output_type": "stream",
     "text": [
      "Dropped 0.0% entries from factor data: 0.0% in forward returns computation and 0.0% in binning phase (set max_loss=0 to see potentially suppressed Exceptions).\n",
      "max_loss is 35.0%, not exceeded: OK!\n",
      "<class 'pandas.core.frame.DataFrame'>\n",
      "MultiIndex: 74054 entries, (Timestamp('2014-12-09 00:00:00+0000', tz='UTC'), 'AAL') to (Timestamp('2017-11-29 00:00:00+0000', tz='UTC'), 'XOM')\n",
      "Data columns (total 6 columns):\n",
      " #   Column           Non-Null Count  Dtype  \n",
      "---  ------           --------------  -----  \n",
      " 0   1D               74054 non-null  float64\n",
      " 1   5D               74054 non-null  float64\n",
      " 2   10D              74054 non-null  float64\n",
      " 3   21D              74054 non-null  float64\n",
      " 4   factor           74054 non-null  float64\n",
      " 5   factor_quantile  74054 non-null  int64  \n",
      "dtypes: float64(5), int64(1)\n",
      "memory usage: 3.7+ MB\n"
     ]
    }
   ],
   "source": [
    "lr_factor_data = get_clean_factor_and_forward_returns(factor=lr_factor,\n",
    "                                                      prices=trade_prices,\n",
    "                                                      quantiles=5,\n",
    "                                                      periods=(1, 5, 10, 21))\n",
    "lr_factor_data.info()"
   ]
  },
  {
   "cell_type": "code",
   "execution_count": 13,
   "metadata": {
    "ExecuteTime": {
     "end_time": "2021-04-15T20:15:26.545662Z",
     "start_time": "2021-04-15T20:14:59.199526Z"
    },
    "scrolled": false
   },
   "outputs": [
    {
     "name": "stdout",
     "output_type": "stream",
     "text": [
      "Quantiles Statistics\n"
     ]
    },
    {
     "data": {
      "text/html": [
       "<div>\n",
       "<style scoped>\n",
       "    .dataframe tbody tr th:only-of-type {\n",
       "        vertical-align: middle;\n",
       "    }\n",
       "\n",
       "    .dataframe tbody tr th {\n",
       "        vertical-align: top;\n",
       "    }\n",
       "\n",
       "    .dataframe thead th {\n",
       "        text-align: right;\n",
       "    }\n",
       "</style>\n",
       "<table border=\"1\" class=\"dataframe\">\n",
       "  <thead>\n",
       "    <tr style=\"text-align: right;\">\n",
       "      <th></th>\n",
       "      <th>min</th>\n",
       "      <th>max</th>\n",
       "      <th>mean</th>\n",
       "      <th>std</th>\n",
       "      <th>count</th>\n",
       "      <th>count %</th>\n",
       "    </tr>\n",
       "    <tr>\n",
       "      <th>factor_quantile</th>\n",
       "      <th></th>\n",
       "      <th></th>\n",
       "      <th></th>\n",
       "      <th></th>\n",
       "      <th></th>\n",
       "      <th></th>\n",
       "    </tr>\n",
       "  </thead>\n",
       "  <tbody>\n",
       "    <tr>\n",
       "      <th>1</th>\n",
       "      <td>-0.047411</td>\n",
       "      <td>0.008700</td>\n",
       "      <td>-0.003169</td>\n",
       "      <td>0.004062</td>\n",
       "      <td>14982</td>\n",
       "      <td>20.231183</td>\n",
       "    </tr>\n",
       "    <tr>\n",
       "      <th>2</th>\n",
       "      <td>-0.015560</td>\n",
       "      <td>0.010750</td>\n",
       "      <td>-0.000996</td>\n",
       "      <td>0.003360</td>\n",
       "      <td>14877</td>\n",
       "      <td>20.089394</td>\n",
       "    </tr>\n",
       "    <tr>\n",
       "      <th>3</th>\n",
       "      <td>-0.013523</td>\n",
       "      <td>0.012632</td>\n",
       "      <td>0.000134</td>\n",
       "      <td>0.003351</td>\n",
       "      <td>14336</td>\n",
       "      <td>19.358846</td>\n",
       "    </tr>\n",
       "    <tr>\n",
       "      <th>4</th>\n",
       "      <td>-0.012081</td>\n",
       "      <td>0.014850</td>\n",
       "      <td>0.001213</td>\n",
       "      <td>0.003458</td>\n",
       "      <td>14877</td>\n",
       "      <td>20.089394</td>\n",
       "    </tr>\n",
       "    <tr>\n",
       "      <th>5</th>\n",
       "      <td>-0.010094</td>\n",
       "      <td>0.038492</td>\n",
       "      <td>0.003323</td>\n",
       "      <td>0.004279</td>\n",
       "      <td>14982</td>\n",
       "      <td>20.231183</td>\n",
       "    </tr>\n",
       "  </tbody>\n",
       "</table>\n",
       "</div>"
      ],
      "text/plain": [
       "                      min       max      mean       std  count    count %\n",
       "factor_quantile                                                          \n",
       "1               -0.047411  0.008700 -0.003169  0.004062  14982  20.231183\n",
       "2               -0.015560  0.010750 -0.000996  0.003360  14877  20.089394\n",
       "3               -0.013523  0.012632  0.000134  0.003351  14336  19.358846\n",
       "4               -0.012081  0.014850  0.001213  0.003458  14877  20.089394\n",
       "5               -0.010094  0.038492  0.003323  0.004279  14982  20.231183"
      ]
     },
     "metadata": {},
     "output_type": "display_data"
    },
    {
     "name": "stdout",
     "output_type": "stream",
     "text": [
      "Returns Analysis\n"
     ]
    },
    {
     "data": {
      "text/html": [
       "<div>\n",
       "<style scoped>\n",
       "    .dataframe tbody tr th:only-of-type {\n",
       "        vertical-align: middle;\n",
       "    }\n",
       "\n",
       "    .dataframe tbody tr th {\n",
       "        vertical-align: top;\n",
       "    }\n",
       "\n",
       "    .dataframe thead th {\n",
       "        text-align: right;\n",
       "    }\n",
       "</style>\n",
       "<table border=\"1\" class=\"dataframe\">\n",
       "  <thead>\n",
       "    <tr style=\"text-align: right;\">\n",
       "      <th></th>\n",
       "      <th>1D</th>\n",
       "      <th>5D</th>\n",
       "      <th>10D</th>\n",
       "      <th>21D</th>\n",
       "    </tr>\n",
       "  </thead>\n",
       "  <tbody>\n",
       "    <tr>\n",
       "      <th>Ann. alpha</th>\n",
       "      <td>0.033</td>\n",
       "      <td>0.021</td>\n",
       "      <td>0.010</td>\n",
       "      <td>0.007</td>\n",
       "    </tr>\n",
       "    <tr>\n",
       "      <th>beta</th>\n",
       "      <td>-0.010</td>\n",
       "      <td>-0.079</td>\n",
       "      <td>-0.060</td>\n",
       "      <td>0.012</td>\n",
       "    </tr>\n",
       "    <tr>\n",
       "      <th>Mean Period Wise Return Top Quantile (bps)</th>\n",
       "      <td>1.108</td>\n",
       "      <td>0.724</td>\n",
       "      <td>0.028</td>\n",
       "      <td>0.212</td>\n",
       "    </tr>\n",
       "    <tr>\n",
       "      <th>Mean Period Wise Return Bottom Quantile (bps)</th>\n",
       "      <td>-2.869</td>\n",
       "      <td>-0.714</td>\n",
       "      <td>-0.524</td>\n",
       "      <td>-0.740</td>\n",
       "    </tr>\n",
       "    <tr>\n",
       "      <th>Mean Period Wise Spread (bps)</th>\n",
       "      <td>3.976</td>\n",
       "      <td>1.468</td>\n",
       "      <td>0.575</td>\n",
       "      <td>0.944</td>\n",
       "    </tr>\n",
       "  </tbody>\n",
       "</table>\n",
       "</div>"
      ],
      "text/plain": [
       "                                                  1D     5D    10D    21D\n",
       "Ann. alpha                                     0.033  0.021  0.010  0.007\n",
       "beta                                          -0.010 -0.079 -0.060  0.012\n",
       "Mean Period Wise Return Top Quantile (bps)     1.108  0.724  0.028  0.212\n",
       "Mean Period Wise Return Bottom Quantile (bps) -2.869 -0.714 -0.524 -0.740\n",
       "Mean Period Wise Spread (bps)                  3.976  1.468  0.575  0.944"
      ]
     },
     "metadata": {},
     "output_type": "display_data"
    },
    {
     "name": "stdout",
     "output_type": "stream",
     "text": [
      "Information Analysis\n"
     ]
    },
    {
     "data": {
      "text/html": [
       "<div>\n",
       "<style scoped>\n",
       "    .dataframe tbody tr th:only-of-type {\n",
       "        vertical-align: middle;\n",
       "    }\n",
       "\n",
       "    .dataframe tbody tr th {\n",
       "        vertical-align: top;\n",
       "    }\n",
       "\n",
       "    .dataframe thead th {\n",
       "        text-align: right;\n",
       "    }\n",
       "</style>\n",
       "<table border=\"1\" class=\"dataframe\">\n",
       "  <thead>\n",
       "    <tr style=\"text-align: right;\">\n",
       "      <th></th>\n",
       "      <th>1D</th>\n",
       "      <th>5D</th>\n",
       "      <th>10D</th>\n",
       "      <th>21D</th>\n",
       "    </tr>\n",
       "  </thead>\n",
       "  <tbody>\n",
       "    <tr>\n",
       "      <th>IC Mean</th>\n",
       "      <td>0.020</td>\n",
       "      <td>0.013</td>\n",
       "      <td>0.013</td>\n",
       "      <td>0.014</td>\n",
       "    </tr>\n",
       "    <tr>\n",
       "      <th>IC Std.</th>\n",
       "      <td>0.181</td>\n",
       "      <td>0.167</td>\n",
       "      <td>0.167</td>\n",
       "      <td>0.155</td>\n",
       "    </tr>\n",
       "    <tr>\n",
       "      <th>Risk-Adjusted IC</th>\n",
       "      <td>0.108</td>\n",
       "      <td>0.079</td>\n",
       "      <td>0.077</td>\n",
       "      <td>0.093</td>\n",
       "    </tr>\n",
       "    <tr>\n",
       "      <th>t-stat(IC)</th>\n",
       "      <td>2.965</td>\n",
       "      <td>2.168</td>\n",
       "      <td>2.105</td>\n",
       "      <td>2.555</td>\n",
       "    </tr>\n",
       "    <tr>\n",
       "      <th>p-value(IC)</th>\n",
       "      <td>0.003</td>\n",
       "      <td>0.030</td>\n",
       "      <td>0.036</td>\n",
       "      <td>0.011</td>\n",
       "    </tr>\n",
       "    <tr>\n",
       "      <th>IC Skew</th>\n",
       "      <td>0.005</td>\n",
       "      <td>-0.018</td>\n",
       "      <td>-0.031</td>\n",
       "      <td>-0.022</td>\n",
       "    </tr>\n",
       "    <tr>\n",
       "      <th>IC Kurtosis</th>\n",
       "      <td>-0.129</td>\n",
       "      <td>-0.178</td>\n",
       "      <td>-0.153</td>\n",
       "      <td>-0.291</td>\n",
       "    </tr>\n",
       "  </tbody>\n",
       "</table>\n",
       "</div>"
      ],
      "text/plain": [
       "                     1D     5D    10D    21D\n",
       "IC Mean           0.020  0.013  0.013  0.014\n",
       "IC Std.           0.181  0.167  0.167  0.155\n",
       "Risk-Adjusted IC  0.108  0.079  0.077  0.093\n",
       "t-stat(IC)        2.965  2.168  2.105  2.555\n",
       "p-value(IC)       0.003  0.030  0.036  0.011\n",
       "IC Skew           0.005 -0.018 -0.031 -0.022\n",
       "IC Kurtosis      -0.129 -0.178 -0.153 -0.291"
      ]
     },
     "metadata": {},
     "output_type": "display_data"
    },
    {
     "name": "stdout",
     "output_type": "stream",
     "text": [
      "Turnover Analysis\n"
     ]
    },
    {
     "data": {
      "text/html": [
       "<div>\n",
       "<style scoped>\n",
       "    .dataframe tbody tr th:only-of-type {\n",
       "        vertical-align: middle;\n",
       "    }\n",
       "\n",
       "    .dataframe tbody tr th {\n",
       "        vertical-align: top;\n",
       "    }\n",
       "\n",
       "    .dataframe thead th {\n",
       "        text-align: right;\n",
       "    }\n",
       "</style>\n",
       "<table border=\"1\" class=\"dataframe\">\n",
       "  <thead>\n",
       "    <tr style=\"text-align: right;\">\n",
       "      <th></th>\n",
       "      <th>1D</th>\n",
       "      <th>5D</th>\n",
       "      <th>10D</th>\n",
       "      <th>21D</th>\n",
       "    </tr>\n",
       "  </thead>\n",
       "  <tbody>\n",
       "    <tr>\n",
       "      <th>Quantile 1 Mean Turnover</th>\n",
       "      <td>0.296</td>\n",
       "      <td>0.520</td>\n",
       "      <td>0.621</td>\n",
       "      <td>0.728</td>\n",
       "    </tr>\n",
       "    <tr>\n",
       "      <th>Quantile 2 Mean Turnover</th>\n",
       "      <td>0.516</td>\n",
       "      <td>0.710</td>\n",
       "      <td>0.757</td>\n",
       "      <td>0.791</td>\n",
       "    </tr>\n",
       "    <tr>\n",
       "      <th>Quantile 3 Mean Turnover</th>\n",
       "      <td>0.568</td>\n",
       "      <td>0.739</td>\n",
       "      <td>0.777</td>\n",
       "      <td>0.804</td>\n",
       "    </tr>\n",
       "    <tr>\n",
       "      <th>Quantile 4 Mean Turnover</th>\n",
       "      <td>0.509</td>\n",
       "      <td>0.701</td>\n",
       "      <td>0.754</td>\n",
       "      <td>0.784</td>\n",
       "    </tr>\n",
       "    <tr>\n",
       "      <th>Quantile 5 Mean Turnover</th>\n",
       "      <td>0.298</td>\n",
       "      <td>0.529</td>\n",
       "      <td>0.637</td>\n",
       "      <td>0.738</td>\n",
       "    </tr>\n",
       "  </tbody>\n",
       "</table>\n",
       "</div>"
      ],
      "text/plain": [
       "                              1D     5D    10D    21D\n",
       "Quantile 1 Mean Turnover   0.296  0.520  0.621  0.728\n",
       "Quantile 2 Mean Turnover   0.516  0.710  0.757  0.791\n",
       "Quantile 3 Mean Turnover   0.568  0.739  0.777  0.804\n",
       "Quantile 4 Mean Turnover   0.509  0.701  0.754  0.784\n",
       "Quantile 5 Mean Turnover   0.298  0.529  0.637  0.738"
      ]
     },
     "metadata": {},
     "output_type": "display_data"
    },
    {
     "data": {
      "text/html": [
       "<div>\n",
       "<style scoped>\n",
       "    .dataframe tbody tr th:only-of-type {\n",
       "        vertical-align: middle;\n",
       "    }\n",
       "\n",
       "    .dataframe tbody tr th {\n",
       "        vertical-align: top;\n",
       "    }\n",
       "\n",
       "    .dataframe thead th {\n",
       "        text-align: right;\n",
       "    }\n",
       "</style>\n",
       "<table border=\"1\" class=\"dataframe\">\n",
       "  <thead>\n",
       "    <tr style=\"text-align: right;\">\n",
       "      <th></th>\n",
       "      <th>1D</th>\n",
       "      <th>5D</th>\n",
       "      <th>10D</th>\n",
       "      <th>21D</th>\n",
       "    </tr>\n",
       "  </thead>\n",
       "  <tbody>\n",
       "    <tr>\n",
       "      <th>Mean Factor Rank Autocorrelation</th>\n",
       "      <td>0.821</td>\n",
       "      <td>0.547</td>\n",
       "      <td>0.392</td>\n",
       "      <td>0.242</td>\n",
       "    </tr>\n",
       "  </tbody>\n",
       "</table>\n",
       "</div>"
      ],
      "text/plain": [
       "                                     1D     5D    10D    21D\n",
       "Mean Factor Rank Autocorrelation  0.821  0.547  0.392  0.242"
      ]
     },
     "metadata": {},
     "output_type": "display_data"
    },
    {
     "data": {
      "text/plain": [
       "<Figure size 640x480 with 0 Axes>"
      ]
     },
     "metadata": {},
     "output_type": "display_data"
    },
    {
     "data": {
      "image/png": "[encoded data removed]",
      "text/plain": [
       "<Figure size 1400x9800 with 1 Axes>"
      ]
     },
     "metadata": {},
     "output_type": "display_data"
    }
   ],
   "source": [
    "create_summary_tear_sheet(lr_factor_data);"
   ]
  },
  {
   "cell_type": "markdown",
   "metadata": {},
   "source": [
    "## Ridge Regression"
   ]
  },
  {
   "cell_type": "code",
   "execution_count": 14,
   "metadata": {
    "ExecuteTime": {
     "end_time": "2021-04-15T20:15:26.552660Z",
     "start_time": "2021-04-15T20:15:26.546553Z"
    }
   },
   "outputs": [],
   "source": [
    "best_ridge_alpha = get_best_alpha(ridge_scores)\n",
    "ridge_predictions = ridge_predictions[ridge_predictions.alpha==best_ridge_alpha].drop('alpha', axis=1)"
   ]
  },
  {
   "cell_type": "code",
   "execution_count": 15,
   "metadata": {
    "ExecuteTime": {
     "end_time": "2021-04-15T20:15:26.585946Z",
     "start_time": "2021-04-15T20:15:26.553563Z"
    }
   },
   "outputs": [
    {
     "data": {
      "text/plain": [
       "date                       symbol\n",
       "2014-12-09 00:00:00+00:00  AAL       0.001953\n",
       "                           AAPL     -0.001374\n",
       "                           ABBV      0.001091\n",
       "                           AGN       0.001934\n",
       "                           AIG      -0.000471\n",
       "dtype: float64"
      ]
     },
     "execution_count": 15,
     "metadata": {},
     "output_type": "execute_result"
    }
   ],
   "source": [
    "ridge_factor = get_factor(ridge_predictions.predicted.swaplevel())\n",
    "ridge_factor.head()"
   ]
  },
  {
   "cell_type": "code",
   "execution_count": 16,
   "metadata": {
    "ExecuteTime": {
     "end_time": "2021-04-15T20:15:27.676523Z",
     "start_time": "2021-04-15T20:15:26.586838Z"
    }
   },
   "outputs": [
    {
     "name": "stdout",
     "output_type": "stream",
     "text": [
      "Dropped 0.0% entries from factor data: 0.0% in forward returns computation and 0.0% in binning phase (set max_loss=0 to see potentially suppressed Exceptions).\n",
      "max_loss is 35.0%, not exceeded: OK!\n",
      "<class 'pandas.core.frame.DataFrame'>\n",
      "MultiIndex: 74054 entries, (Timestamp('2014-12-09 00:00:00+0000', tz='UTC'), 'AAL') to (Timestamp('2017-11-29 00:00:00+0000', tz='UTC'), 'XOM')\n",
      "Data columns (total 6 columns):\n",
      " #   Column           Non-Null Count  Dtype  \n",
      "---  ------           --------------  -----  \n",
      " 0   1D               74054 non-null  float64\n",
      " 1   5D               74054 non-null  float64\n",
      " 2   10D              74054 non-null  float64\n",
      " 3   21D              74054 non-null  float64\n",
      " 4   factor           74054 non-null  float64\n",
      " 5   factor_quantile  74054 non-null  int64  \n",
      "dtypes: float64(5), int64(1)\n",
      "memory usage: 3.7+ MB\n"
     ]
    }
   ],
   "source": [
    "ridge_factor_data = get_clean_factor_and_forward_returns(factor=ridge_factor,\n",
    "                                                         prices=trade_prices,\n",
    "                                                         quantiles=5,\n",
    "                                                         periods=(1, 5, 10, 21))\n",
    "ridge_factor_data.info()"
   ]
  },
  {
   "cell_type": "code",
   "execution_count": 17,
   "metadata": {
    "ExecuteTime": {
     "end_time": "2021-04-15T20:15:54.846281Z",
     "start_time": "2021-04-15T20:15:27.677383Z"
    },
    "scrolled": false
   },
   "outputs": [
    {
     "name": "stdout",
     "output_type": "stream",
     "text": [
      "Quantiles Statistics\n"
     ]
    },
    {
     "data": {
      "text/html": [
       "<div>\n",
       "<style scoped>\n",
       "    .dataframe tbody tr th:only-of-type {\n",
       "        vertical-align: middle;\n",
       "    }\n",
       "\n",
       "    .dataframe tbody tr th {\n",
       "        vertical-align: top;\n",
       "    }\n",
       "\n",
       "    .dataframe thead th {\n",
       "        text-align: right;\n",
       "    }\n",
       "</style>\n",
       "<table border=\"1\" class=\"dataframe\">\n",
       "  <thead>\n",
       "    <tr style=\"text-align: right;\">\n",
       "      <th></th>\n",
       "      <th>min</th>\n",
       "      <th>max</th>\n",
       "      <th>mean</th>\n",
       "      <th>std</th>\n",
       "      <th>count</th>\n",
       "      <th>count %</th>\n",
       "    </tr>\n",
       "    <tr>\n",
       "      <th>factor_quantile</th>\n",
       "      <th></th>\n",
       "      <th></th>\n",
       "      <th></th>\n",
       "      <th></th>\n",
       "      <th></th>\n",
       "      <th></th>\n",
       "    </tr>\n",
       "  </thead>\n",
       "  <tbody>\n",
       "    <tr>\n",
       "      <th>1</th>\n",
       "      <td>-0.036597</td>\n",
       "      <td>0.009164</td>\n",
       "      <td>-0.003368</td>\n",
       "      <td>0.003631</td>\n",
       "      <td>14982</td>\n",
       "      <td>20.231183</td>\n",
       "    </tr>\n",
       "    <tr>\n",
       "      <th>2</th>\n",
       "      <td>-0.012857</td>\n",
       "      <td>0.011247</td>\n",
       "      <td>-0.001338</td>\n",
       "      <td>0.003060</td>\n",
       "      <td>14877</td>\n",
       "      <td>20.089394</td>\n",
       "    </tr>\n",
       "    <tr>\n",
       "      <th>3</th>\n",
       "      <td>-0.010657</td>\n",
       "      <td>0.012705</td>\n",
       "      <td>-0.000268</td>\n",
       "      <td>0.003092</td>\n",
       "      <td>14336</td>\n",
       "      <td>19.358846</td>\n",
       "    </tr>\n",
       "    <tr>\n",
       "      <th>4</th>\n",
       "      <td>-0.009426</td>\n",
       "      <td>0.015165</td>\n",
       "      <td>0.000752</td>\n",
       "      <td>0.003225</td>\n",
       "      <td>14877</td>\n",
       "      <td>20.089394</td>\n",
       "    </tr>\n",
       "    <tr>\n",
       "      <th>5</th>\n",
       "      <td>-0.007759</td>\n",
       "      <td>0.038524</td>\n",
       "      <td>0.002717</td>\n",
       "      <td>0.004053</td>\n",
       "      <td>14982</td>\n",
       "      <td>20.231183</td>\n",
       "    </tr>\n",
       "  </tbody>\n",
       "</table>\n",
       "</div>"
      ],
      "text/plain": [
       "                      min       max      mean       std  count    count %\n",
       "factor_quantile                                                          \n",
       "1               -0.036597  0.009164 -0.003368  0.003631  14982  20.231183\n",
       "2               -0.012857  0.011247 -0.001338  0.003060  14877  20.089394\n",
       "3               -0.010657  0.012705 -0.000268  0.003092  14336  19.358846\n",
       "4               -0.009426  0.015165  0.000752  0.003225  14877  20.089394\n",
       "5               -0.007759  0.038524  0.002717  0.004053  14982  20.231183"
      ]
     },
     "metadata": {},
     "output_type": "display_data"
    },
    {
     "name": "stdout",
     "output_type": "stream",
     "text": [
      "Returns Analysis\n"
     ]
    },
    {
     "data": {
      "text/html": [
       "<div>\n",
       "<style scoped>\n",
       "    .dataframe tbody tr th:only-of-type {\n",
       "        vertical-align: middle;\n",
       "    }\n",
       "\n",
       "    .dataframe tbody tr th {\n",
       "        vertical-align: top;\n",
       "    }\n",
       "\n",
       "    .dataframe thead th {\n",
       "        text-align: right;\n",
       "    }\n",
       "</style>\n",
       "<table border=\"1\" class=\"dataframe\">\n",
       "  <thead>\n",
       "    <tr style=\"text-align: right;\">\n",
       "      <th></th>\n",
       "      <th>1D</th>\n",
       "      <th>5D</th>\n",
       "      <th>10D</th>\n",
       "      <th>21D</th>\n",
       "    </tr>\n",
       "  </thead>\n",
       "  <tbody>\n",
       "    <tr>\n",
       "      <th>Ann. alpha</th>\n",
       "      <td>0.033</td>\n",
       "      <td>0.023</td>\n",
       "      <td>0.014</td>\n",
       "      <td>0.011</td>\n",
       "    </tr>\n",
       "    <tr>\n",
       "      <th>beta</th>\n",
       "      <td>-0.007</td>\n",
       "      <td>-0.081</td>\n",
       "      <td>-0.061</td>\n",
       "      <td>0.015</td>\n",
       "    </tr>\n",
       "    <tr>\n",
       "      <th>Mean Period Wise Return Top Quantile (bps)</th>\n",
       "      <td>1.377</td>\n",
       "      <td>0.549</td>\n",
       "      <td>0.071</td>\n",
       "      <td>0.210</td>\n",
       "    </tr>\n",
       "    <tr>\n",
       "      <th>Mean Period Wise Return Bottom Quantile (bps)</th>\n",
       "      <td>-2.776</td>\n",
       "      <td>-1.345</td>\n",
       "      <td>-1.045</td>\n",
       "      <td>-1.153</td>\n",
       "    </tr>\n",
       "    <tr>\n",
       "      <th>Mean Period Wise Spread (bps)</th>\n",
       "      <td>4.153</td>\n",
       "      <td>1.920</td>\n",
       "      <td>1.136</td>\n",
       "      <td>1.353</td>\n",
       "    </tr>\n",
       "  </tbody>\n",
       "</table>\n",
       "</div>"
      ],
      "text/plain": [
       "                                                  1D     5D    10D    21D\n",
       "Ann. alpha                                     0.033  0.023  0.014  0.011\n",
       "beta                                          -0.007 -0.081 -0.061  0.015\n",
       "Mean Period Wise Return Top Quantile (bps)     1.377  0.549  0.071  0.210\n",
       "Mean Period Wise Return Bottom Quantile (bps) -2.776 -1.345 -1.045 -1.153\n",
       "Mean Period Wise Spread (bps)                  4.153  1.920  1.136  1.353"
      ]
     },
     "metadata": {},
     "output_type": "display_data"
    },
    {
     "name": "stdout",
     "output_type": "stream",
     "text": [
      "Information Analysis\n"
     ]
    },
    {
     "data": {
      "text/html": [
       "<div>\n",
       "<style scoped>\n",
       "    .dataframe tbody tr th:only-of-type {\n",
       "        vertical-align: middle;\n",
       "    }\n",
       "\n",
       "    .dataframe tbody tr th {\n",
       "        vertical-align: top;\n",
       "    }\n",
       "\n",
       "    .dataframe thead th {\n",
       "        text-align: right;\n",
       "    }\n",
       "</style>\n",
       "<table border=\"1\" class=\"dataframe\">\n",
       "  <thead>\n",
       "    <tr style=\"text-align: right;\">\n",
       "      <th></th>\n",
       "      <th>1D</th>\n",
       "      <th>5D</th>\n",
       "      <th>10D</th>\n",
       "      <th>21D</th>\n",
       "    </tr>\n",
       "  </thead>\n",
       "  <tbody>\n",
       "    <tr>\n",
       "      <th>IC Mean</th>\n",
       "      <td>0.020</td>\n",
       "      <td>0.014</td>\n",
       "      <td>0.013</td>\n",
       "      <td>0.014</td>\n",
       "    </tr>\n",
       "    <tr>\n",
       "      <th>IC Std.</th>\n",
       "      <td>0.181</td>\n",
       "      <td>0.169</td>\n",
       "      <td>0.169</td>\n",
       "      <td>0.155</td>\n",
       "    </tr>\n",
       "    <tr>\n",
       "      <th>Risk-Adjusted IC</th>\n",
       "      <td>0.110</td>\n",
       "      <td>0.083</td>\n",
       "      <td>0.080</td>\n",
       "      <td>0.090</td>\n",
       "    </tr>\n",
       "    <tr>\n",
       "      <th>t-stat(IC)</th>\n",
       "      <td>3.011</td>\n",
       "      <td>2.278</td>\n",
       "      <td>2.182</td>\n",
       "      <td>2.452</td>\n",
       "    </tr>\n",
       "    <tr>\n",
       "      <th>p-value(IC)</th>\n",
       "      <td>0.003</td>\n",
       "      <td>0.023</td>\n",
       "      <td>0.029</td>\n",
       "      <td>0.014</td>\n",
       "    </tr>\n",
       "    <tr>\n",
       "      <th>IC Skew</th>\n",
       "      <td>0.004</td>\n",
       "      <td>-0.016</td>\n",
       "      <td>-0.042</td>\n",
       "      <td>-0.029</td>\n",
       "    </tr>\n",
       "    <tr>\n",
       "      <th>IC Kurtosis</th>\n",
       "      <td>-0.143</td>\n",
       "      <td>-0.192</td>\n",
       "      <td>-0.146</td>\n",
       "      <td>-0.279</td>\n",
       "    </tr>\n",
       "  </tbody>\n",
       "</table>\n",
       "</div>"
      ],
      "text/plain": [
       "                     1D     5D    10D    21D\n",
       "IC Mean           0.020  0.014  0.013  0.014\n",
       "IC Std.           0.181  0.169  0.169  0.155\n",
       "Risk-Adjusted IC  0.110  0.083  0.080  0.090\n",
       "t-stat(IC)        3.011  2.278  2.182  2.452\n",
       "p-value(IC)       0.003  0.023  0.029  0.014\n",
       "IC Skew           0.004 -0.016 -0.042 -0.029\n",
       "IC Kurtosis      -0.143 -0.192 -0.146 -0.279"
      ]
     },
     "metadata": {},
     "output_type": "display_data"
    },
    {
     "name": "stdout",
     "output_type": "stream",
     "text": [
      "Turnover Analysis\n"
     ]
    },
    {
     "data": {
      "text/html": [
       "<div>\n",
       "<style scoped>\n",
       "    .dataframe tbody tr th:only-of-type {\n",
       "        vertical-align: middle;\n",
       "    }\n",
       "\n",
       "    .dataframe tbody tr th {\n",
       "        vertical-align: top;\n",
       "    }\n",
       "\n",
       "    .dataframe thead th {\n",
       "        text-align: right;\n",
       "    }\n",
       "</style>\n",
       "<table border=\"1\" class=\"dataframe\">\n",
       "  <thead>\n",
       "    <tr style=\"text-align: right;\">\n",
       "      <th></th>\n",
       "      <th>1D</th>\n",
       "      <th>5D</th>\n",
       "      <th>10D</th>\n",
       "      <th>21D</th>\n",
       "    </tr>\n",
       "  </thead>\n",
       "  <tbody>\n",
       "    <tr>\n",
       "      <th>Quantile 1 Mean Turnover</th>\n",
       "      <td>0.293</td>\n",
       "      <td>0.512</td>\n",
       "      <td>0.617</td>\n",
       "      <td>0.725</td>\n",
       "    </tr>\n",
       "    <tr>\n",
       "      <th>Quantile 2 Mean Turnover</th>\n",
       "      <td>0.508</td>\n",
       "      <td>0.703</td>\n",
       "      <td>0.753</td>\n",
       "      <td>0.789</td>\n",
       "    </tr>\n",
       "    <tr>\n",
       "      <th>Quantile 3 Mean Turnover</th>\n",
       "      <td>0.562</td>\n",
       "      <td>0.729</td>\n",
       "      <td>0.776</td>\n",
       "      <td>0.806</td>\n",
       "    </tr>\n",
       "    <tr>\n",
       "      <th>Quantile 4 Mean Turnover</th>\n",
       "      <td>0.504</td>\n",
       "      <td>0.694</td>\n",
       "      <td>0.749</td>\n",
       "      <td>0.786</td>\n",
       "    </tr>\n",
       "    <tr>\n",
       "      <th>Quantile 5 Mean Turnover</th>\n",
       "      <td>0.297</td>\n",
       "      <td>0.521</td>\n",
       "      <td>0.633</td>\n",
       "      <td>0.737</td>\n",
       "    </tr>\n",
       "  </tbody>\n",
       "</table>\n",
       "</div>"
      ],
      "text/plain": [
       "                              1D     5D    10D    21D\n",
       "Quantile 1 Mean Turnover   0.293  0.512  0.617  0.725\n",
       "Quantile 2 Mean Turnover   0.508  0.703  0.753  0.789\n",
       "Quantile 3 Mean Turnover   0.562  0.729  0.776  0.806\n",
       "Quantile 4 Mean Turnover   0.504  0.694  0.749  0.786\n",
       "Quantile 5 Mean Turnover   0.297  0.521  0.633  0.737"
      ]
     },
     "metadata": {},
     "output_type": "display_data"
    },
    {
     "data": {
      "text/html": [
       "<div>\n",
       "<style scoped>\n",
       "    .dataframe tbody tr th:only-of-type {\n",
       "        vertical-align: middle;\n",
       "    }\n",
       "\n",
       "    .dataframe tbody tr th {\n",
       "        vertical-align: top;\n",
       "    }\n",
       "\n",
       "    .dataframe thead th {\n",
       "        text-align: right;\n",
       "    }\n",
       "</style>\n",
       "<table border=\"1\" class=\"dataframe\">\n",
       "  <thead>\n",
       "    <tr style=\"text-align: right;\">\n",
       "      <th></th>\n",
       "      <th>1D</th>\n",
       "      <th>5D</th>\n",
       "      <th>10D</th>\n",
       "      <th>21D</th>\n",
       "    </tr>\n",
       "  </thead>\n",
       "  <tbody>\n",
       "    <tr>\n",
       "      <th>Mean Factor Rank Autocorrelation</th>\n",
       "      <td>0.824</td>\n",
       "      <td>0.565</td>\n",
       "      <td>0.407</td>\n",
       "      <td>0.252</td>\n",
       "    </tr>\n",
       "  </tbody>\n",
       "</table>\n",
       "</div>"
      ],
      "text/plain": [
       "                                     1D     5D    10D    21D\n",
       "Mean Factor Rank Autocorrelation  0.824  0.565  0.407  0.252"
      ]
     },
     "metadata": {},
     "output_type": "display_data"
    },
    {
     "data": {
      "text/plain": [
       "<Figure size 640x480 with 0 Axes>"
      ]
     },
     "metadata": {},
     "output_type": "display_data"
    },
    {
     "data": {
      "image/png": "[encoded data removed]",
      "text/plain": [
       "<Figure size 1400x9800 with 1 Axes>"
      ]
     },
     "metadata": {},
     "output_type": "display_data"
    }
   ],
   "source": [
    "create_summary_tear_sheet(ridge_factor_data);"
   ]
  },
  {
   "cell_type": "markdown",
   "metadata": {},
   "source": [
    "## Lasso Regression"
   ]
  },
  {
   "cell_type": "code",
   "execution_count": 18,
   "metadata": {
    "ExecuteTime": {
     "end_time": "2021-04-15T20:15:54.852776Z",
     "start_time": "2021-04-15T20:15:54.847107Z"
    }
   },
   "outputs": [],
   "source": [
    "best_lasso_alpha = get_best_alpha(lasso_scores)\n",
    "lasso_predictions = lasso_predictions[lasso_predictions.alpha==best_lasso_alpha].drop('alpha', axis=1)"
   ]
  },
  {
   "cell_type": "code",
   "execution_count": 19,
   "metadata": {
    "ExecuteTime": {
     "end_time": "2021-04-15T20:15:54.896728Z",
     "start_time": "2021-04-15T20:15:54.853796Z"
    }
   },
   "outputs": [
    {
     "data": {
      "text/plain": [
       "date                       symbol\n",
       "2014-12-09 00:00:00+00:00  AAL       0.001872\n",
       "                           AAPL     -0.001646\n",
       "                           ABBV      0.001163\n",
       "                           AGN       0.001919\n",
       "                           AIG      -0.000530\n",
       "dtype: float64"
      ]
     },
     "execution_count": 19,
     "metadata": {},
     "output_type": "execute_result"
    }
   ],
   "source": [
    "lasso_factor = get_factor(lasso_predictions.predicted.swaplevel())\n",
    "lasso_factor.head()"
   ]
  },
  {
   "cell_type": "code",
   "execution_count": 20,
   "metadata": {
    "ExecuteTime": {
     "end_time": "2021-04-15T20:15:56.002215Z",
     "start_time": "2021-04-15T20:15:54.897452Z"
    }
   },
   "outputs": [
    {
     "name": "stdout",
     "output_type": "stream",
     "text": [
      "Dropped 0.0% entries from factor data: 0.0% in forward returns computation and 0.0% in binning phase (set max_loss=0 to see potentially suppressed Exceptions).\n",
      "max_loss is 35.0%, not exceeded: OK!\n",
      "<class 'pandas.core.frame.DataFrame'>\n",
      "MultiIndex: 74054 entries, (Timestamp('2014-12-09 00:00:00+0000', tz='UTC'), 'AAL') to (Timestamp('2017-11-29 00:00:00+0000', tz='UTC'), 'XOM')\n",
      "Data columns (total 6 columns):\n",
      " #   Column           Non-Null Count  Dtype  \n",
      "---  ------           --------------  -----  \n",
      " 0   1D               74054 non-null  float64\n",
      " 1   5D               74054 non-null  float64\n",
      " 2   10D              74054 non-null  float64\n",
      " 3   21D              74054 non-null  float64\n",
      " 4   factor           74054 non-null  float64\n",
      " 5   factor_quantile  74054 non-null  int64  \n",
      "dtypes: float64(5), int64(1)\n",
      "memory usage: 3.7+ MB\n"
     ]
    }
   ],
   "source": [
    "lasso_factor_data = get_clean_factor_and_forward_returns(factor=lasso_factor,\n",
    "                                                      prices=trade_prices,\n",
    "                                                      quantiles=5,\n",
    "                                                      periods=(1, 5, 10, 21))\n",
    "lasso_factor_data.info()"
   ]
  },
  {
   "cell_type": "code",
   "execution_count": 21,
   "metadata": {
    "ExecuteTime": {
     "end_time": "2021-04-15T20:16:22.806032Z",
     "start_time": "2021-04-15T20:15:56.003253Z"
    },
    "scrolled": false
   },
   "outputs": [
    {
     "name": "stdout",
     "output_type": "stream",
     "text": [
      "Quantiles Statistics\n"
     ]
    },
    {
     "data": {
      "text/html": [
       "<div>\n",
       "<style scoped>\n",
       "    .dataframe tbody tr th:only-of-type {\n",
       "        vertical-align: middle;\n",
       "    }\n",
       "\n",
       "    .dataframe tbody tr th {\n",
       "        vertical-align: top;\n",
       "    }\n",
       "\n",
       "    .dataframe thead th {\n",
       "        text-align: right;\n",
       "    }\n",
       "</style>\n",
       "<table border=\"1\" class=\"dataframe\">\n",
       "  <thead>\n",
       "    <tr style=\"text-align: right;\">\n",
       "      <th></th>\n",
       "      <th>min</th>\n",
       "      <th>max</th>\n",
       "      <th>mean</th>\n",
       "      <th>std</th>\n",
       "      <th>count</th>\n",
       "      <th>count %</th>\n",
       "    </tr>\n",
       "    <tr>\n",
       "      <th>factor_quantile</th>\n",
       "      <th></th>\n",
       "      <th></th>\n",
       "      <th></th>\n",
       "      <th></th>\n",
       "      <th></th>\n",
       "      <th></th>\n",
       "    </tr>\n",
       "  </thead>\n",
       "  <tbody>\n",
       "    <tr>\n",
       "      <th>1</th>\n",
       "      <td>-0.044839</td>\n",
       "      <td>0.009398</td>\n",
       "      <td>-0.003459</td>\n",
       "      <td>0.003828</td>\n",
       "      <td>14982</td>\n",
       "      <td>20.231183</td>\n",
       "    </tr>\n",
       "    <tr>\n",
       "      <th>2</th>\n",
       "      <td>-0.014281</td>\n",
       "      <td>0.011321</td>\n",
       "      <td>-0.001359</td>\n",
       "      <td>0.003232</td>\n",
       "      <td>14877</td>\n",
       "      <td>20.089394</td>\n",
       "    </tr>\n",
       "    <tr>\n",
       "      <th>3</th>\n",
       "      <td>-0.012327</td>\n",
       "      <td>0.013100</td>\n",
       "      <td>-0.000258</td>\n",
       "      <td>0.003285</td>\n",
       "      <td>14336</td>\n",
       "      <td>19.358846</td>\n",
       "    </tr>\n",
       "    <tr>\n",
       "      <th>4</th>\n",
       "      <td>-0.010948</td>\n",
       "      <td>0.015352</td>\n",
       "      <td>0.000791</td>\n",
       "      <td>0.003434</td>\n",
       "      <td>14877</td>\n",
       "      <td>20.089394</td>\n",
       "    </tr>\n",
       "    <tr>\n",
       "      <th>5</th>\n",
       "      <td>-0.009000</td>\n",
       "      <td>0.038298</td>\n",
       "      <td>0.002835</td>\n",
       "      <td>0.004327</td>\n",
       "      <td>14982</td>\n",
       "      <td>20.231183</td>\n",
       "    </tr>\n",
       "  </tbody>\n",
       "</table>\n",
       "</div>"
      ],
      "text/plain": [
       "                      min       max      mean       std  count    count %\n",
       "factor_quantile                                                          \n",
       "1               -0.044839  0.009398 -0.003459  0.003828  14982  20.231183\n",
       "2               -0.014281  0.011321 -0.001359  0.003232  14877  20.089394\n",
       "3               -0.012327  0.013100 -0.000258  0.003285  14336  19.358846\n",
       "4               -0.010948  0.015352  0.000791  0.003434  14877  20.089394\n",
       "5               -0.009000  0.038298  0.002835  0.004327  14982  20.231183"
      ]
     },
     "metadata": {},
     "output_type": "display_data"
    },
    {
     "name": "stdout",
     "output_type": "stream",
     "text": [
      "Returns Analysis\n"
     ]
    },
    {
     "data": {
      "text/html": [
       "<div>\n",
       "<style scoped>\n",
       "    .dataframe tbody tr th:only-of-type {\n",
       "        vertical-align: middle;\n",
       "    }\n",
       "\n",
       "    .dataframe tbody tr th {\n",
       "        vertical-align: top;\n",
       "    }\n",
       "\n",
       "    .dataframe thead th {\n",
       "        text-align: right;\n",
       "    }\n",
       "</style>\n",
       "<table border=\"1\" class=\"dataframe\">\n",
       "  <thead>\n",
       "    <tr style=\"text-align: right;\">\n",
       "      <th></th>\n",
       "      <th>1D</th>\n",
       "      <th>5D</th>\n",
       "      <th>10D</th>\n",
       "      <th>21D</th>\n",
       "    </tr>\n",
       "  </thead>\n",
       "  <tbody>\n",
       "    <tr>\n",
       "      <th>Ann. alpha</th>\n",
       "      <td>0.034</td>\n",
       "      <td>0.022</td>\n",
       "      <td>0.012</td>\n",
       "      <td>0.009</td>\n",
       "    </tr>\n",
       "    <tr>\n",
       "      <th>beta</th>\n",
       "      <td>-0.009</td>\n",
       "      <td>-0.078</td>\n",
       "      <td>-0.058</td>\n",
       "      <td>0.014</td>\n",
       "    </tr>\n",
       "    <tr>\n",
       "      <th>Mean Period Wise Return Top Quantile (bps)</th>\n",
       "      <td>1.967</td>\n",
       "      <td>0.778</td>\n",
       "      <td>0.044</td>\n",
       "      <td>0.238</td>\n",
       "    </tr>\n",
       "    <tr>\n",
       "      <th>Mean Period Wise Return Bottom Quantile (bps)</th>\n",
       "      <td>-2.507</td>\n",
       "      <td>-0.772</td>\n",
       "      <td>-0.764</td>\n",
       "      <td>-0.906</td>\n",
       "    </tr>\n",
       "    <tr>\n",
       "      <th>Mean Period Wise Spread (bps)</th>\n",
       "      <td>4.473</td>\n",
       "      <td>1.579</td>\n",
       "      <td>0.827</td>\n",
       "      <td>1.134</td>\n",
       "    </tr>\n",
       "  </tbody>\n",
       "</table>\n",
       "</div>"
      ],
      "text/plain": [
       "                                                  1D     5D    10D    21D\n",
       "Ann. alpha                                     0.034  0.022  0.012  0.009\n",
       "beta                                          -0.009 -0.078 -0.058  0.014\n",
       "Mean Period Wise Return Top Quantile (bps)     1.967  0.778  0.044  0.238\n",
       "Mean Period Wise Return Bottom Quantile (bps) -2.507 -0.772 -0.764 -0.906\n",
       "Mean Period Wise Spread (bps)                  4.473  1.579  0.827  1.134"
      ]
     },
     "metadata": {},
     "output_type": "display_data"
    },
    {
     "name": "stdout",
     "output_type": "stream",
     "text": [
      "Information Analysis\n"
     ]
    },
    {
     "data": {
      "text/html": [
       "<div>\n",
       "<style scoped>\n",
       "    .dataframe tbody tr th:only-of-type {\n",
       "        vertical-align: middle;\n",
       "    }\n",
       "\n",
       "    .dataframe tbody tr th {\n",
       "        vertical-align: top;\n",
       "    }\n",
       "\n",
       "    .dataframe thead th {\n",
       "        text-align: right;\n",
       "    }\n",
       "</style>\n",
       "<table border=\"1\" class=\"dataframe\">\n",
       "  <thead>\n",
       "    <tr style=\"text-align: right;\">\n",
       "      <th></th>\n",
       "      <th>1D</th>\n",
       "      <th>5D</th>\n",
       "      <th>10D</th>\n",
       "      <th>21D</th>\n",
       "    </tr>\n",
       "  </thead>\n",
       "  <tbody>\n",
       "    <tr>\n",
       "      <th>IC Mean</th>\n",
       "      <td>0.020</td>\n",
       "      <td>0.014</td>\n",
       "      <td>0.013</td>\n",
       "      <td>0.014</td>\n",
       "    </tr>\n",
       "    <tr>\n",
       "      <th>IC Std.</th>\n",
       "      <td>0.181</td>\n",
       "      <td>0.168</td>\n",
       "      <td>0.168</td>\n",
       "      <td>0.155</td>\n",
       "    </tr>\n",
       "    <tr>\n",
       "      <th>Risk-Adjusted IC</th>\n",
       "      <td>0.111</td>\n",
       "      <td>0.082</td>\n",
       "      <td>0.075</td>\n",
       "      <td>0.093</td>\n",
       "    </tr>\n",
       "    <tr>\n",
       "      <th>t-stat(IC)</th>\n",
       "      <td>3.037</td>\n",
       "      <td>2.239</td>\n",
       "      <td>2.058</td>\n",
       "      <td>2.551</td>\n",
       "    </tr>\n",
       "    <tr>\n",
       "      <th>p-value(IC)</th>\n",
       "      <td>0.002</td>\n",
       "      <td>0.025</td>\n",
       "      <td>0.040</td>\n",
       "      <td>0.011</td>\n",
       "    </tr>\n",
       "    <tr>\n",
       "      <th>IC Skew</th>\n",
       "      <td>0.002</td>\n",
       "      <td>-0.011</td>\n",
       "      <td>-0.035</td>\n",
       "      <td>-0.022</td>\n",
       "    </tr>\n",
       "    <tr>\n",
       "      <th>IC Kurtosis</th>\n",
       "      <td>-0.152</td>\n",
       "      <td>-0.192</td>\n",
       "      <td>-0.161</td>\n",
       "      <td>-0.307</td>\n",
       "    </tr>\n",
       "  </tbody>\n",
       "</table>\n",
       "</div>"
      ],
      "text/plain": [
       "                     1D     5D    10D    21D\n",
       "IC Mean           0.020  0.014  0.013  0.014\n",
       "IC Std.           0.181  0.168  0.168  0.155\n",
       "Risk-Adjusted IC  0.111  0.082  0.075  0.093\n",
       "t-stat(IC)        3.037  2.239  2.058  2.551\n",
       "p-value(IC)       0.002  0.025  0.040  0.011\n",
       "IC Skew           0.002 -0.011 -0.035 -0.022\n",
       "IC Kurtosis      -0.152 -0.192 -0.161 -0.307"
      ]
     },
     "metadata": {},
     "output_type": "display_data"
    },
    {
     "name": "stdout",
     "output_type": "stream",
     "text": [
      "Turnover Analysis\n"
     ]
    },
    {
     "data": {
      "text/html": [
       "<div>\n",
       "<style scoped>\n",
       "    .dataframe tbody tr th:only-of-type {\n",
       "        vertical-align: middle;\n",
       "    }\n",
       "\n",
       "    .dataframe tbody tr th {\n",
       "        vertical-align: top;\n",
       "    }\n",
       "\n",
       "    .dataframe thead th {\n",
       "        text-align: right;\n",
       "    }\n",
       "</style>\n",
       "<table border=\"1\" class=\"dataframe\">\n",
       "  <thead>\n",
       "    <tr style=\"text-align: right;\">\n",
       "      <th></th>\n",
       "      <th>1D</th>\n",
       "      <th>5D</th>\n",
       "      <th>10D</th>\n",
       "      <th>21D</th>\n",
       "    </tr>\n",
       "  </thead>\n",
       "  <tbody>\n",
       "    <tr>\n",
       "      <th>Quantile 1 Mean Turnover</th>\n",
       "      <td>0.296</td>\n",
       "      <td>0.517</td>\n",
       "      <td>0.619</td>\n",
       "      <td>0.728</td>\n",
       "    </tr>\n",
       "    <tr>\n",
       "      <th>Quantile 2 Mean Turnover</th>\n",
       "      <td>0.513</td>\n",
       "      <td>0.705</td>\n",
       "      <td>0.752</td>\n",
       "      <td>0.789</td>\n",
       "    </tr>\n",
       "    <tr>\n",
       "      <th>Quantile 3 Mean Turnover</th>\n",
       "      <td>0.566</td>\n",
       "      <td>0.737</td>\n",
       "      <td>0.778</td>\n",
       "      <td>0.806</td>\n",
       "    </tr>\n",
       "    <tr>\n",
       "      <th>Quantile 4 Mean Turnover</th>\n",
       "      <td>0.504</td>\n",
       "      <td>0.698</td>\n",
       "      <td>0.752</td>\n",
       "      <td>0.783</td>\n",
       "    </tr>\n",
       "    <tr>\n",
       "      <th>Quantile 5 Mean Turnover</th>\n",
       "      <td>0.297</td>\n",
       "      <td>0.527</td>\n",
       "      <td>0.636</td>\n",
       "      <td>0.739</td>\n",
       "    </tr>\n",
       "  </tbody>\n",
       "</table>\n",
       "</div>"
      ],
      "text/plain": [
       "                              1D     5D    10D    21D\n",
       "Quantile 1 Mean Turnover   0.296  0.517  0.619  0.728\n",
       "Quantile 2 Mean Turnover   0.513  0.705  0.752  0.789\n",
       "Quantile 3 Mean Turnover   0.566  0.737  0.778  0.806\n",
       "Quantile 4 Mean Turnover   0.504  0.698  0.752  0.783\n",
       "Quantile 5 Mean Turnover   0.297  0.527  0.636  0.739"
      ]
     },
     "metadata": {},
     "output_type": "display_data"
    },
    {
     "data": {
      "text/html": [
       "<div>\n",
       "<style scoped>\n",
       "    .dataframe tbody tr th:only-of-type {\n",
       "        vertical-align: middle;\n",
       "    }\n",
       "\n",
       "    .dataframe tbody tr th {\n",
       "        vertical-align: top;\n",
       "    }\n",
       "\n",
       "    .dataframe thead th {\n",
       "        text-align: right;\n",
       "    }\n",
       "</style>\n",
       "<table border=\"1\" class=\"dataframe\">\n",
       "  <thead>\n",
       "    <tr style=\"text-align: right;\">\n",
       "      <th></th>\n",
       "      <th>1D</th>\n",
       "      <th>5D</th>\n",
       "      <th>10D</th>\n",
       "      <th>21D</th>\n",
       "    </tr>\n",
       "  </thead>\n",
       "  <tbody>\n",
       "    <tr>\n",
       "      <th>Mean Factor Rank Autocorrelation</th>\n",
       "      <td>0.822</td>\n",
       "      <td>0.553</td>\n",
       "      <td>0.397</td>\n",
       "      <td>0.243</td>\n",
       "    </tr>\n",
       "  </tbody>\n",
       "</table>\n",
       "</div>"
      ],
      "text/plain": [
       "                                     1D     5D    10D    21D\n",
       "Mean Factor Rank Autocorrelation  0.822  0.553  0.397  0.243"
      ]
     },
     "metadata": {},
     "output_type": "display_data"
    },
    {
     "data": {
      "text/plain": [
       "<Figure size 640x480 with 0 Axes>"
      ]
     },
     "metadata": {},
     "output_type": "display_data"
    },
    {
     "data": {
      "image/png": "[encoded data removed]",
      "text/plain": [
       "<Figure size 1400x9800 with 1 Axes>"
      ]
     },
     "metadata": {},
     "output_type": "display_data"
    }
   ],
   "source": [
    "create_summary_tear_sheet(lasso_factor_data);"
   ]
  }
 ],
 "metadata": {
  "kernelspec": {
   "display_name": "Python [conda env:ml4t] *",
   "language": "python",
   "name": "conda-env-ml4t-py"
  },
  "language_info": {
   "codemirror_mode": {
    "name": "ipython",
    "version": 3
   },
   "file_extension": ".py",
   "mimetype": "text/x-python",
   "name": "python",
   "nbconvert_exporter": "python",
   "pygments_lexer": "ipython3",
   "version": "3.9.17"
  },
  "toc": {
   "base_numbering": 1,
   "nav_menu": {},
   "number_sections": true,
   "sideBar": true,
   "skip_h1_title": false,
   "title_cell": "Table of Contents",
   "title_sidebar": "Contents",
   "toc_cell": false,
   "toc_position": {},
   "toc_section_display": true,
   "toc_window_display": false
  }
 },
 "nbformat": 4,
 "nbformat_minor": 4
}
